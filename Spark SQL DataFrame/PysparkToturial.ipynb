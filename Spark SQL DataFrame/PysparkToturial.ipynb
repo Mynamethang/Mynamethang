{
 "cells": [
  {
   "cell_type": "code",
   "execution_count": 5,
   "id": "d9b4ffe5",
   "metadata": {},
   "outputs": [
    {
     "ename": "ModuleNotFoundError",
     "evalue": "No module named 'pyspark'",
     "output_type": "error",
     "traceback": [
      "\u001b[1;31m---------------------------------------------------------------------------\u001b[0m",
      "\u001b[1;31mModuleNotFoundError\u001b[0m                       Traceback (most recent call last)",
      "Cell \u001b[1;32mIn[5], line 1\u001b[0m\n\u001b[1;32m----> 1\u001b[0m \u001b[38;5;28;01mimport\u001b[39;00m \u001b[38;5;21;01mpyspark\u001b[39;00m\n",
      "\u001b[1;31mModuleNotFoundError\u001b[0m: No module named 'pyspark'"
     ]
    }
   ],
   "source": [
    "import pyspark"
   ]
  },
  {
   "cell_type": "code",
   "execution_count": 1,
   "id": "3d8d7691",
   "metadata": {},
   "outputs": [
    {
     "ename": "ModuleNotFoundError",
     "evalue": "No module named 'pytube'",
     "output_type": "error",
     "traceback": [
      "\u001b[1;31m---------------------------------------------------------------------------\u001b[0m",
      "\u001b[1;31mModuleNotFoundError\u001b[0m                       Traceback (most recent call last)",
      "Cell \u001b[1;32mIn[1], line 1\u001b[0m\n\u001b[1;32m----> 1\u001b[0m \u001b[38;5;28;01mimport\u001b[39;00m \u001b[38;5;21;01mpytube\u001b[39;00m\n",
      "\u001b[1;31mModuleNotFoundError\u001b[0m: No module named 'pytube'"
     ]
    }
   ],
   "source": [
    "import pytube"
   ]
  },
  {
   "cell_type": "code",
   "execution_count": 2,
   "id": "cf62a394",
   "metadata": {},
   "outputs": [
    {
     "ename": "NameError",
     "evalue": "name 'SparkSession' is not defined",
     "output_type": "error",
     "traceback": [
      "\u001b[1;31m---------------------------------------------------------------------------\u001b[0m",
      "\u001b[1;31mNameError\u001b[0m                                 Traceback (most recent call last)",
      "Cell \u001b[1;32mIn[2], line 1\u001b[0m\n\u001b[1;32m----> 1\u001b[0m spark \u001b[38;5;241m=\u001b[39m \u001b[43mSparkSession\u001b[49m\u001b[38;5;241m.\u001b[39mbuilder\u001b[38;5;241m.\u001b[39mappName(\u001b[38;5;124m\"\u001b[39m\u001b[38;5;124mPysparkTutorial\u001b[39m\u001b[38;5;124m\"\u001b[39m)\u001b[38;5;241m.\u001b[39mgetOrCreate()\n",
      "\u001b[1;31mNameError\u001b[0m: name 'SparkSession' is not defined"
     ]
    }
   ],
   "source": [
    "spark = SparkSession.builder.appName(\"PysparkTutorial\").getOrCreate()"
   ]
  },
  {
   "cell_type": "code",
   "execution_count": 3,
   "id": "f6d35386",
   "metadata": {},
   "outputs": [
    {
     "data": {
      "text/html": [
       "\n",
       "            <div>\n",
       "                <p><b>SparkSession - in-memory</b></p>\n",
       "                \n",
       "        <div>\n",
       "            <p><b>SparkContext</b></p>\n",
       "\n",
       "            <p><a href=\"http://192.168.5.1:4040\">Spark UI</a></p>\n",
       "\n",
       "            <dl>\n",
       "              <dt>Version</dt>\n",
       "                <dd><code>v3.4.1</code></dd>\n",
       "              <dt>Master</dt>\n",
       "                <dd><code>local[*]</code></dd>\n",
       "              <dt>AppName</dt>\n",
       "                <dd><code>PysparkTutorial</code></dd>\n",
       "            </dl>\n",
       "        </div>\n",
       "        \n",
       "            </div>\n",
       "        "
      ],
      "text/plain": [
       "<pyspark.sql.session.SparkSession at 0x1cec85222f0>"
      ]
     },
     "execution_count": 3,
     "metadata": {},
     "output_type": "execute_result"
    }
   ],
   "source": [
    "spark"
   ]
  },
  {
   "cell_type": "code",
   "execution_count": 4,
   "id": "eec9f711",
   "metadata": {},
   "outputs": [],
   "source": [
    "df_pyspark = spark.read.csv(\"spotify-2023.csv\", header=True, inferSchema=True)"
   ]
  },
  {
   "cell_type": "code",
   "execution_count": 5,
   "id": "f4e118dc",
   "metadata": {
    "scrolled": true
   },
   "outputs": [
    {
     "name": "stdout",
     "output_type": "stream",
     "text": [
      "+--------------------+----------------+------------+-------------+--------------+------------+--------------------+-----------------+---------+------------------+---------------+-------------------+----------------+----------------+---+---+-----+--------------+---------+--------+--------------+------------------+----------+-------------+\n",
      "|          track_name|  artist(s)_name|artist_count|released_year|released_month|released_day|in_spotify_playlists|in_spotify_charts|  streams|in_apple_playlists|in_apple_charts|in_deezer_playlists|in_deezer_charts|in_shazam_charts|bpm|key| mode|danceability_%|valence_%|energy_%|acousticness_%|instrumentalness_%|liveness_%|speechiness_%|\n",
      "+--------------------+----------------+------------+-------------+--------------+------------+--------------------+-----------------+---------+------------------+---------------+-------------------+----------------+----------------+---+---+-----+--------------+---------+--------+--------------+------------------+----------+-------------+\n",
      "|Seven (feat. Latt...|Latto, Jung Kook|           2|         2023|             7|          14|                 553|              147|141381703|                43|            263|                 45|              10|             826|125|  B|Major|            80|       89|      83|            31|                 0|         8|            4|\n",
      "|                LALA|     Myke Towers|           1|         2023|             3|          23|                1474|               48|133716286|                48|            126|                 58|              14|             382| 92| C#|Major|            71|       61|      74|             7|                 0|        10|            4|\n",
      "|             vampire|  Olivia Rodrigo|           1|         2023|             6|          30|                1397|              113|140003974|                94|            207|                 91|              14|             949|138|  F|Major|            51|       32|      53|            17|                 0|        31|            6|\n",
      "|        Cruel Summer|    Taylor Swift|           1|         2019|             8|          23|                7858|              100|800840817|               116|            207|                125|              12|             548|170|  A|Major|            55|       58|      72|            11|                 0|        11|           15|\n",
      "|      WHERE SHE GOES|       Bad Bunny|           1|         2023|             5|          18|                3133|               50|303236322|                84|            133|                 87|              15|             425|144|  A|Minor|            65|       23|      80|            14|                63|        11|            6|\n",
      "+--------------------+----------------+------------+-------------+--------------+------------+--------------------+-----------------+---------+------------------+---------------+-------------------+----------------+----------------+---+---+-----+--------------+---------+--------+--------------+------------------+----------+-------------+\n",
      "only showing top 5 rows\n",
      "\n"
     ]
    }
   ],
   "source": [
    "df_pyspark.show(5)"
   ]
  },
  {
   "cell_type": "code",
   "execution_count": 20,
   "id": "0929d81c",
   "metadata": {},
   "outputs": [
    {
     "name": "stdout",
     "output_type": "stream",
     "text": [
      "+--------------------+------------------+\n",
      "|          track_name|in_apple_playlists|\n",
      "+--------------------+------------------+\n",
      "|Seven (feat. Latt...|                43|\n",
      "|                LALA|                48|\n",
      "|             vampire|                94|\n",
      "|        Cruel Summer|               116|\n",
      "|      WHERE SHE GOES|                84|\n",
      "|            Sprinter|                67|\n",
      "|     Ella Baila Sola|                34|\n",
      "|            Columbia|                25|\n",
      "|            fukumean|                60|\n",
      "|     La Bebe - Remix|                49|\n",
      "|           un x100to|                41|\n",
      "|           Super Shy|                37|\n",
      "|             Flowers|               300|\n",
      "|            Daylight|                80|\n",
      "|           As It Was|               403|\n",
      "+--------------------+------------------+\n",
      "only showing top 15 rows\n",
      "\n"
     ]
    }
   ],
   "source": [
    "apple_playlists = df_pyspark.select('track_name', 'in_apple_playlists')\n",
    "apple_playlists.show(15)"
   ]
  },
  {
   "cell_type": "code",
   "execution_count": 23,
   "id": "05675b54",
   "metadata": {},
   "outputs": [
    {
     "name": "stdout",
     "output_type": "stream",
     "text": [
      "+--------------------+------------------+\n",
      "|          track_name|in_apple_playlists|\n",
      "+--------------------+------------------+\n",
      "|Seven (feat. Latt...|                43|\n",
      "|                LALA|                48|\n",
      "|             vampire|                94|\n",
      "|      WHERE SHE GOES|                84|\n",
      "|            Sprinter|                67|\n",
      "|     Ella Baila Sola|                34|\n",
      "|            Columbia|                25|\n",
      "|            fukumean|                60|\n",
      "|     La Bebe - Remix|                49|\n",
      "|           un x100to|                41|\n",
      "|           Super Shy|                37|\n",
      "|            Daylight|                80|\n",
      "|   Cupid - Twin Ver.|                91|\n",
      "|\"What Was I Made ...|                80|\n",
      "|          Classy 101|                43|\n",
      "|          Like Crazy|                 8|\n",
      "|           LADY GAGA|                11|\n",
      "|I Can See You (Ta...|                73|\n",
      "|    I Wanna Be Yours|                24|\n",
      "|Peso Pluma: Bzrp ...|                17|\n",
      "+--------------------+------------------+\n",
      "only showing top 20 rows\n",
      "\n"
     ]
    }
   ],
   "source": [
    "apple_playlists.filter('in_apple_playlists < 100' ).show()"
   ]
  },
  {
   "cell_type": "code",
   "execution_count": 7,
   "id": "01e3a92f",
   "metadata": {},
   "outputs": [
    {
     "data": {
      "text/plain": [
       "pyspark.sql.dataframe.DataFrame"
      ]
     },
     "execution_count": 7,
     "metadata": {},
     "output_type": "execute_result"
    }
   ],
   "source": [
    "type(df_pyspark)"
   ]
  },
  {
   "cell_type": "code",
   "execution_count": 10,
   "id": "b72179ae",
   "metadata": {},
   "outputs": [
    {
     "name": "stdout",
     "output_type": "stream",
     "text": [
      "root\n",
      " |-- _c0: string (nullable = true)\n",
      " |-- _c1: string (nullable = true)\n",
      " |-- _c2: string (nullable = true)\n",
      " |-- _c3: string (nullable = true)\n",
      " |-- _c4: string (nullable = true)\n",
      " |-- _c5: string (nullable = true)\n",
      " |-- _c6: string (nullable = true)\n",
      " |-- _c7: string (nullable = true)\n",
      " |-- _c8: string (nullable = true)\n",
      " |-- _c9: string (nullable = true)\n",
      " |-- _c10: string (nullable = true)\n",
      " |-- _c11: string (nullable = true)\n",
      " |-- _c12: string (nullable = true)\n",
      " |-- _c13: string (nullable = true)\n",
      " |-- _c14: string (nullable = true)\n",
      " |-- _c15: string (nullable = true)\n",
      " |-- _c16: string (nullable = true)\n",
      " |-- _c17: string (nullable = true)\n",
      " |-- _c18: string (nullable = true)\n",
      " |-- _c19: string (nullable = true)\n",
      " |-- _c20: string (nullable = true)\n",
      " |-- _c21: string (nullable = true)\n",
      " |-- _c22: string (nullable = true)\n",
      " |-- _c23: string (nullable = true)\n",
      " |-- _c24: string (nullable = true)\n",
      " |-- _c25: string (nullable = true)\n",
      " |-- _c26: string (nullable = true)\n",
      " |-- _c27: string (nullable = true)\n",
      "\n"
     ]
    }
   ],
   "source": [
    "df_pyspark.printSchema()"
   ]
  },
  {
   "cell_type": "code",
   "execution_count": 11,
   "id": "5b056c62",
   "metadata": {},
   "outputs": [],
   "source": [
    "df_pyspark = spark.read.option('header','true').csv(\"D:\\Wealth-AccountData.csv\", inferSchema=True)"
   ]
  },
  {
   "cell_type": "code",
   "execution_count": 14,
   "id": "53dac30b",
   "metadata": {},
   "outputs": [
    {
     "name": "stdout",
     "output_type": "stream",
     "text": [
      "root\n",
      " |-- Country Name: string (nullable = true)\n",
      " |-- Country Code: string (nullable = true)\n",
      " |-- Series Name: string (nullable = true)\n",
      " |-- Series Code: string (nullable = true)\n",
      " |-- 1995 [YR1995]: string (nullable = true)\n",
      " |-- 1996 [YR1996]: string (nullable = true)\n",
      " |-- 1997 [YR1997]: string (nullable = true)\n",
      " |-- 1998 [YR1998]: string (nullable = true)\n",
      " |-- 1999 [YR1999]: string (nullable = true)\n",
      " |-- 2000 [YR2000]: string (nullable = true)\n",
      " |-- 2001 [YR2001]: string (nullable = true)\n",
      " |-- 2002 [YR2002]: string (nullable = true)\n",
      " |-- 2003 [YR2003]: string (nullable = true)\n",
      " |-- 2004 [YR2004]: string (nullable = true)\n",
      " |-- 2005 [YR2005]: double (nullable = true)\n",
      " |-- 2006 [YR2006]: double (nullable = true)\n",
      " |-- 2007 [YR2007]: double (nullable = true)\n",
      " |-- 2008 [YR2008]: double (nullable = true)\n",
      " |-- 2009 [YR2009]: double (nullable = true)\n",
      " |-- 2010 [YR2010]: double (nullable = true)\n",
      " |-- 2011 [YR2011]: double (nullable = true)\n",
      " |-- 2012 [YR2012]: double (nullable = true)\n",
      " |-- 2013 [YR2013]: double (nullable = true)\n",
      " |-- 2014 [YR2014]: double (nullable = true)\n",
      " |-- 2015 [YR2015]: double (nullable = true)\n",
      " |-- 2016 [YR2016]: string (nullable = true)\n",
      " |-- 2017 [YR2017]: string (nullable = true)\n",
      " |-- 2018 [YR2018]: string (nullable = true)\n",
      "\n"
     ]
    }
   ],
   "source": [
    "df_pyspark.printSchema()"
   ]
  },
  {
   "cell_type": "code",
   "execution_count": 15,
   "id": "b4b8a895",
   "metadata": {},
   "outputs": [
    {
     "data": {
      "text/plain": [
       "['Country Name',\n",
       " 'Country Code',\n",
       " 'Series Name',\n",
       " 'Series Code',\n",
       " '1995 [YR1995]',\n",
       " '1996 [YR1996]',\n",
       " '1997 [YR1997]',\n",
       " '1998 [YR1998]',\n",
       " '1999 [YR1999]',\n",
       " '2000 [YR2000]',\n",
       " '2001 [YR2001]',\n",
       " '2002 [YR2002]',\n",
       " '2003 [YR2003]',\n",
       " '2004 [YR2004]',\n",
       " '2005 [YR2005]',\n",
       " '2006 [YR2006]',\n",
       " '2007 [YR2007]',\n",
       " '2008 [YR2008]',\n",
       " '2009 [YR2009]',\n",
       " '2010 [YR2010]',\n",
       " '2011 [YR2011]',\n",
       " '2012 [YR2012]',\n",
       " '2013 [YR2013]',\n",
       " '2014 [YR2014]',\n",
       " '2015 [YR2015]',\n",
       " '2016 [YR2016]',\n",
       " '2017 [YR2017]',\n",
       " '2018 [YR2018]']"
      ]
     },
     "execution_count": 15,
     "metadata": {},
     "output_type": "execute_result"
    }
   ],
   "source": [
    "df_pyspark.columns"
   ]
  },
  {
   "cell_type": "code",
   "execution_count": 16,
   "id": "cfc2d578",
   "metadata": {},
   "outputs": [
    {
     "name": "stdout",
     "output_type": "stream",
     "text": [
      "+------------+\n",
      "|Country Name|\n",
      "+------------+\n",
      "|     Albania|\n",
      "|     Albania|\n",
      "|     Albania|\n",
      "|     Albania|\n",
      "|     Albania|\n",
      "|     Albania|\n",
      "|     Albania|\n",
      "|     Albania|\n",
      "|     Albania|\n",
      "|     Albania|\n",
      "|     Albania|\n",
      "|     Albania|\n",
      "|     Albania|\n",
      "|     Albania|\n",
      "|     Albania|\n",
      "|     Albania|\n",
      "|     Albania|\n",
      "|     Albania|\n",
      "|     Albania|\n",
      "|     Albania|\n",
      "+------------+\n",
      "only showing top 20 rows\n",
      "\n"
     ]
    }
   ],
   "source": [
    "df_pyspark.select('Country Name').show()"
   ]
  },
  {
   "cell_type": "code",
   "execution_count": 18,
   "id": "318731dc",
   "metadata": {},
   "outputs": [],
   "source": [
    "df_pyspark = df_pyspark.drop('2018 [YR2018]')"
   ]
  },
  {
   "cell_type": "code",
   "execution_count": 22,
   "id": "386a461c",
   "metadata": {},
   "outputs": [
    {
     "name": "stdout",
     "output_type": "stream",
     "text": [
      "+------------+------------+--------------------+--------------+-------------+-------------+-------------+-------------+-------------+-------------+-------------+-------------+-------------+-------------+-------------+-------------+-------------+-------------+-------------+-------------+-------------+-------------+-------------+-------------+-------------+-------------+-------------+\n",
      "|Country Name|Country Code|         Series Name|   Series Code|1995 [YR1995]|1996 [YR1996]|1997 [YR1997]|1998 [YR1998]|1999 [YR1999]|2000 [YR2000]|2001 [YR2001]|2002 [YR2002]|2003 [YR2003]|2004 [YR2004]|2005 [YR2005]|2006 [YR2006]|2007 [YR2007]|2008 [YR2008]|2009 [YR2009]|2010 [YR2010]|2011 [YR2011]|2012 [YR2012]|2013 [YR2013]|2014 [YR2014]|2015 [YR2015]|2016 [YR2016]|2017 [YR2017]|\n",
      "+------------+------------+--------------------+--------------+-------------+-------------+-------------+-------------+-------------+-------------+-------------+-------------+-------------+-------------+-------------+-------------+-------------+-------------+-------------+-------------+-------------+-------------+-------------+-------------+-------------+-------------+-------------+\n",
      "|     Albania|         ALB|Human capital (co...|     NW.HCA.TO|     4.49E+10|     4.34E+10|     3.71E+10|     3.88E+10|     4.22E+10|     4.36E+10|     4.76E+10|     4.85E+10|     5.21E+10|     5.23E+10|      5.44E10|      5.69E10|      5.94E10|      6.34E10|      6.61E10|      6.81E10|      6.85E10|      7.08E10|      7.16E10|      7.25E10|      7.37E10|     7.57E+10|     7.80E+10|\n",
      "|     Albania|         ALB|Human capital per...|     NW.HCA.PC|     14072.79|     13708.99|      11794.1|     12399.48|     13573.26|     14118.13|     15564.46|     15906.19|     17132.03|     17262.12|      18072.3|     19001.13|     19999.08|     21523.57|      22582.0|     23362.86|     23590.58|     24393.97|     24731.62|     25090.02|     25593.71|     26326.26|     27160.86|\n",
      "|     Albania|         ALB|Human capital per...|NW.HCA.FEMP.PC|     3468.858|     3355.549|     2868.997|     3013.391|     3259.893|     3424.007|     3783.821|     3906.699|      2016.02|     2086.846|     2222.115|     2323.013|     2465.247|     2664.126|     2825.336|      2889.15|     2848.523|     2930.234|     2954.273|      2957.42|     2987.545|     3072.504|     3178.417|\n",
      "|     Albania|         ALB|Human capital per...|NW.HCA.MEMP.PC|     6507.931|     6353.737|     5466.692|     5901.072|      6492.73|     6872.019|     7607.771|     7820.393|     10641.06|     10969.67|     11689.35|     12268.48|     13086.02|     14232.03|     15253.19|     15789.92|     15798.54|      16473.6|     16810.13|     16991.38|     17307.01|      17817.1|     18445.94|\n",
      "|     Albania|         ALB|Human capital per...|NW.HCA.FEMA.PC|     4893.006|     4737.857|     4059.321|     4191.445|     4536.972|     4695.071|     5169.876|     5298.901|      2728.79|     2759.035|     2886.736|     3025.042|     3170.332|     3393.761|     3529.144|     3613.606|     3603.694|      3683.81|     3696.744|     3719.608|     3767.628|     3872.142|     3992.188|\n",
      "|     Albania|         ALB|Human capital per...|NW.HCA.MALE.PC|      9179.78|     8971.138|     7734.777|     8208.036|      9036.29|     9423.057|     10394.58|     10607.29|     14403.24|     14503.08|     15185.56|     15976.09|     16828.75|     18129.81|     19052.86|     19749.26|     19986.89|     20710.16|     21034.87|     21370.41|     21826.08|     22454.12|     23168.67|\n",
      "|     Albania|         ALB|Human capital per...|NW.HCA.FSEM.PC|     1424.149|     1382.308|     1190.323|     1178.054|     1277.079|     1271.063|     1386.056|     1392.201|     712.7699|     672.1896|     664.6205|     702.0291|     705.0844|      729.635|     703.8089|     724.4566|     755.1709|     753.5752|     742.4708|     762.1876|     780.0834|     799.6382|     813.7716|\n",
      "|     Albania|         ALB|Human capital per...|NW.HCA.MSEM.PC|     2671.848|     2617.401|     2268.085|     2306.964|     2543.559|     2551.038|     2786.811|     2786.895|      3762.18|     3533.417|      3496.21|     3707.611|     3742.728|     3897.783|     3799.666|     3959.335|     4188.346|     4236.555|     4224.739|     4379.026|     4519.067|     4637.012|     4722.724|\n",
      "|     Albania|         ALB|Human capital, em...|NW.HCA.FEMP.TO|     1.11E+10|     1.06E+10|     9.03E+09|     9.43E+09|     1.01E+10|     1.06E+10|     1.16E+10|     1.19E+10|     6.13E+09|     6.32E+09|       6.69E9|       6.95E9|       7.32E9|       7.85E9|       8.27E9|       8.42E9|       8.28E9|        8.5E9|       8.55E9|       8.54E9|       8.61E9|     8.84E+09|     9.13E+09|\n",
      "|     Albania|         ALB|Human capital, em...|NW.HCA.MEMP.TO|     2.07E+10|     2.01E+10|     1.72E+10|     1.85E+10|     2.02E+10|     2.12E+10|     2.33E+10|     2.39E+10|     3.23E+10|     3.32E+10|      3.52E10|      3.67E10|      3.89E10|      4.19E10|      4.47E10|       4.6E10|      4.59E10|      4.78E10|      4.87E10|      4.91E10|      4.99E10|     5.12E+10|     5.30E+10|\n",
      "|     Albania|         ALB|Human capital, fe...|NW.HCA.FEMA.TO|     1.56E+10|     1.50E+10|     1.28E+10|     1.31E+10|     1.41E+10|     1.45E+10|     1.58E+10|     1.62E+10|     8.29E+09|     8.35E+09|       8.69E9|       9.05E9|       9.42E9|       1.0E10|      1.03E10|      1.05E10|      1.05E10|      1.07E10|      1.07E10|      1.07E10|      1.09E10|     1.11E+10|     1.15E+10|\n",
      "|     Albania|         ALB|Human capital, ma...|NW.HCA.MALE.TO|     2.93E+10|     2.84E+10|     2.44E+10|     2.57E+10|     2.81E+10|     2.91E+10|     3.18E+10|     3.24E+10|     4.38E+10|     4.39E+10|      4.57E10|      4.78E10|       5.0E10|      5.34E10|      5.58E10|      5.75E10|      5.81E10|      6.01E10|      6.09E10|      6.17E10|      6.29E10|     6.46E+10|     6.66E+10|\n",
      "|     Albania|         ALB|Human capital, se...|NW.HCA.FSEM.TO|     4.54E+09|     4.38E+09|     3.75E+09|     3.69E+09|     3.97E+09|     3.93E+09|     4.24E+09|     4.25E+09|     2.17E+09|     2.03E+09|        2.0E9|        2.1E9|       2.09E9|       2.15E9|       2.06E9|       2.11E9|       2.19E9|       2.19E9|       2.15E9|        2.2E9|       2.25E9|     2.30E+09|     2.34E+09|\n",
      "|     Albania|         ALB|Human capital, se...|NW.HCA.MSEM.TO|     8.52E+09|     8.29E+09|     7.14E+09|     7.22E+09|     7.91E+09|     7.88E+09|     8.53E+09|     8.50E+09|     1.14E+10|     1.07E+10|      1.05E10|      1.11E10|      1.11E10|      1.15E10|      1.11E10|      1.15E10|      1.22E10|      1.23E10|      1.22E10|      1.27E10|       1.3E10|     1.33E+10|     1.36E+10|\n",
      "|     Albania|         ALB|Natural capital (...|     NW.NCA.TO|     2.14E+10|     2.03E+10|     1.74E+10|     1.49E+10|     1.50E+10|     1.52E+10|     1.55E+10|     1.56E+10|     1.58E+10|     1.59E+10|      1.57E10|      1.57E10|      1.66E10|      1.66E10|       1.7E10|      1.73E10|      1.85E10|      1.98E10|      2.13E10|      2.26E10|      2.52E10|     2.72E+10|     2.67E+10|\n",
      "|     Albania|         ALB|Natural capital p...|     NW.NCA.PC|      6714.65|     6421.299|     5512.025|     4766.966|     4826.643|     4930.374|     5074.718|     5112.987|     5198.341|     5239.269|     5221.296|     5243.212|     5603.856|     5639.895|     5805.127|     5955.458|     6382.959|     6821.135|     7363.199|     7816.244|     8758.227|     9462.321|      9275.87|\n",
      "|     Albania|         ALB|Natural capital p...|NW.NCA.AGRI.PC|     4493.153|     4636.045|     4320.382|     3678.394|     3722.628|     3723.061|      3887.13|     3929.377|     3945.788|     3885.899|     3816.297|     3762.558|     3720.072|     3603.863|     3676.813|     3765.433|     3919.112|     4146.037|     4524.482|     4717.225|     4876.618|     4924.092|     4948.796|\n",
      "|     Albania|         ALB|Natural capital p...|NW.NCA.CROL.PC|     2162.778|      2188.45|     1985.026|     1557.575|     1545.689|     1487.092|     1475.108|     1403.668|     1335.905|     1295.295|     1268.674|     1274.771|     1300.964|     1297.824|     1349.662|     1419.135|     1505.704|     1606.755|     1858.592|     2042.146|     2157.082|      2262.01|       2405.1|\n",
      "|     Albania|         ALB|Natural capital p...|NW.NCA.PASL.PC|     2330.375|     2447.595|     2335.356|     2120.819|     2176.939|     2235.968|     2412.022|     2525.709|     2609.882|     2590.604|     2547.623|     2487.786|     2419.108|     2306.039|     2327.151|     2346.298|     2413.408|     2539.282|      2665.89|     2675.079|     2719.536|     2662.082|     2543.696|\n",
      "|     Albania|         ALB|Natural capital p...|NW.NCA.FISH.PC|      4.28993|     9.675197|     3.389291|     6.462025|     9.034977|     13.73903|     9.702575|     13.86063|      8.92758|     14.33324|     12.24451|     5.651779|     0.055435|          0.0|          0.0|     1.164915|          0.0|          0.0|     10.44756|          0.0|     2.179042|     2.117198|     2.234723|\n",
      "+------------+------------+--------------------+--------------+-------------+-------------+-------------+-------------+-------------+-------------+-------------+-------------+-------------+-------------+-------------+-------------+-------------+-------------+-------------+-------------+-------------+-------------+-------------+-------------+-------------+-------------+-------------+\n",
      "only showing top 20 rows\n",
      "\n"
     ]
    }
   ],
   "source": [
    "df_pyspark.na.drop().show()"
   ]
  },
  {
   "cell_type": "code",
   "execution_count": null,
   "id": "68531e64",
   "metadata": {},
   "outputs": [],
   "source": [
    "df_pyspark.na.drop().show(how='any')"
   ]
  },
  {
   "cell_type": "code",
   "execution_count": null,
   "id": "7de279fe",
   "metadata": {},
   "outputs": [],
   "source": [
    "df_pyspark.na.drop().show(how='all')"
   ]
  },
  {
   "cell_type": "code",
   "execution_count": 30,
   "id": "1c26e0a3",
   "metadata": {},
   "outputs": [
    {
     "name": "stdout",
     "output_type": "stream",
     "text": [
      "+------+---+----------+------+\n",
      "|  name|age|Experience|salary|\n",
      "+------+---+----------+------+\n",
      "| Drake| 18|         1|  6000|\n",
      "|  John| 35|         7| 10000|\n",
      "|  Coby| 20|         3|  7000|\n",
      "|  Mary| 24|         5|  9000|\n",
      "|Jennie| 28|         2|  6800|\n",
      "+------+---+----------+------+\n",
      "\n"
     ]
    }
   ],
   "source": [
    "df_pyspark2 = spark.read.csv('Documents/test1.csv', header=True, inferSchema=True)\n",
    "df_pyspark2.show()"
   ]
  },
  {
   "cell_type": "code",
   "execution_count": 31,
   "id": "e78d20e1",
   "metadata": {},
   "outputs": [
    {
     "name": "stdout",
     "output_type": "stream",
     "text": [
      "+------+---+----------+------+\n",
      "|  name|age|Experience|salary|\n",
      "+------+---+----------+------+\n",
      "| Drake| 18|         1|  6000|\n",
      "|  Coby| 20|         3|  7000|\n",
      "|Jennie| 28|         2|  6800|\n",
      "+------+---+----------+------+\n",
      "\n"
     ]
    }
   ],
   "source": [
    " df_pyspark2.filter('salary < 9000').show()"
   ]
  },
  {
   "cell_type": "code",
   "execution_count": 41,
   "id": "3caa8728",
   "metadata": {},
   "outputs": [
    {
     "name": "stdout",
     "output_type": "stream",
     "text": [
      "+--------+------------+------+\n",
      "|   name | departments|salary|\n",
      "+--------+------------+------+\n",
      "|   Krish|Data Science| 10000|\n",
      "|   Krish|         IOT|  5000|\n",
      "|  Mashes|     BigData|  4000|\n",
      "|   Krish|     BigData|  4000|\n",
      "|  Mashes|Data Science|  3000|\n",
      "|Sudhansu|Data Science| 20000|\n",
      "|Sudhansu|         IOT| 10000|\n",
      "|Sudhansu|     BigData|  5000|\n",
      "|    Suny|Data Science| 10000|\n",
      "+--------+------------+------+\n",
      "\n"
     ]
    }
   ],
   "source": [
    "df_pyspark3 = spark.read.csv('Documents/test2.csv', header=True, inferSchema=True)\n",
    "df_pyspark3.show()"
   ]
  },
  {
   "cell_type": "code",
   "execution_count": 44,
   "id": "fa6baad4",
   "metadata": {},
   "outputs": [],
   "source": [
    "df_pyspark3 = df_pyspark3.withColumnRenamed('name ', 'name')"
   ]
  },
  {
   "cell_type": "code",
   "execution_count": 48,
   "id": "02eb8e07",
   "metadata": {},
   "outputs": [
    {
     "name": "stdout",
     "output_type": "stream",
     "text": [
      "+--------+-----------+\n",
      "|    name|sum(salary)|\n",
      "+--------+-----------+\n",
      "|  Mashes|       7000|\n",
      "|   Krish|      19000|\n",
      "|    Suny|      10000|\n",
      "|Sudhansu|      35000|\n",
      "+--------+-----------+\n",
      "\n"
     ]
    }
   ],
   "source": [
    "df_pyspark3.groupBy('name').sum().show()"
   ]
  },
  {
   "cell_type": "code",
   "execution_count": 49,
   "id": "1b230a37",
   "metadata": {},
   "outputs": [
    {
     "name": "stdout",
     "output_type": "stream",
     "text": [
      "+--------+-----+\n",
      "|    name|count|\n",
      "+--------+-----+\n",
      "|  Mashes|    2|\n",
      "|   Krish|    3|\n",
      "|    Suny|    1|\n",
      "|Sudhansu|    3|\n",
      "+--------+-----+\n",
      "\n"
     ]
    }
   ],
   "source": [
    "df_pyspark3.groupBy('name').count().show()"
   ]
  },
  {
   "cell_type": "code",
   "execution_count": 50,
   "id": "627297d4",
   "metadata": {},
   "outputs": [
    {
     "name": "stdout",
     "output_type": "stream",
     "text": [
      "+-----------+\n",
      "|sum(salary)|\n",
      "+-----------+\n",
      "|      71000|\n",
      "+-----------+\n",
      "\n"
     ]
    }
   ],
   "source": [
    "df_pyspark3.agg({'salary':'sum'}).show()"
   ]
  },
  {
   "cell_type": "code",
   "execution_count": null,
   "id": "1b7f8a57",
   "metadata": {},
   "outputs": [],
   "source": []
  }
 ],
 "metadata": {
  "kernelspec": {
   "display_name": "Python 3 (ipykernel)",
   "language": "python",
   "name": "python3"
  },
  "language_info": {
   "codemirror_mode": {
    "name": "ipython",
    "version": 3
   },
   "file_extension": ".py",
   "mimetype": "text/x-python",
   "name": "python",
   "nbconvert_exporter": "python",
   "pygments_lexer": "ipython3",
   "version": "3.10.9"
  }
 },
 "nbformat": 4,
 "nbformat_minor": 5
}
